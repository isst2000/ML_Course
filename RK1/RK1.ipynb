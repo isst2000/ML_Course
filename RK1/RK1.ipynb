{
 "cells": [
  {
   "cell_type": "markdown",
   "metadata": {},
   "source": [
    "# РК1, ИУ5-64Б: Сергеев И.В."
   ]
  },
  {
   "cell_type": "markdown",
   "metadata": {},
   "source": [
    "**Вариант 11** (задача 2, датасет 3)"
   ]
  },
  {
   "cell_type": "markdown",
   "metadata": {},
   "source": [
    "Для заданного набора данных проведите обработку пропусков в данных для одного категориального и одного количественного признака. Какие способы обработки пропусков в данных для категориальных и количественных признаков Вы использовали? Какие признаки Вы будете использовать для дальнейшего построения моделей машинного обучения и почему?"
   ]
  },
  {
   "cell_type": "markdown",
   "metadata": {},
   "source": [
    "## Выполнение"
   ]
  },
  {
   "cell_type": "code",
   "execution_count": 1,
   "metadata": {
    "pycharm": {
     "is_executing": false
    }
   },
   "outputs": [],
   "source": [
    "import pandas as pd\n",
    "import numpy as np"
   ]
  },
  {
   "cell_type": "markdown",
   "metadata": {},
   "source": [
    "### Извлечение данных из dataset'a"
   ]
  },
  {
   "cell_type": "code",
   "execution_count": 2,
   "metadata": {
    "pycharm": {
     "is_executing": false
    }
   },
   "outputs": [
    {
     "data": {
      "text/plain": "       page_id                                 name  \\\n0         1678            Spider-Man (Peter Parker)   \n1         7139      Captain America (Steven Rogers)   \n2        64786  Wolverine (James \\\"Logan\\\" Howlett)   \n3         1868    Iron Man (Anthony \\\"Tony\\\" Stark)   \n4         2460                  Thor (Thor Odinson)   \n...        ...                                  ...   \n16371   657508                   Ru'ach (Earth-616)   \n16372   665474      Thane (Thanos' son) (Earth-616)   \n16373   695217        Tinkerer (Skrull) (Earth-616)   \n16374   708811       TK421 (Spiderling) (Earth-616)   \n16375   673702                Yologarch (Earth-616)   \n\n                                       urlslug                ID  \\\n0                  \\/Spider-Man_(Peter_Parker)   Secret Identity   \n1            \\/Captain_America_(Steven_Rogers)   Public Identity   \n2      \\/Wolverine_(James_%22Logan%22_Howlett)   Public Identity   \n3        \\/Iron_Man_(Anthony_%22Tony%22_Stark)   Public Identity   \n4                        \\/Thor_(Thor_Odinson)  No Dual Identity   \n...                                        ...               ...   \n16371                   \\/Ru%27ach_(Earth-616)  No Dual Identity   \n16372      \\/Thane_(Thanos%27_son)_(Earth-616)  No Dual Identity   \n16373          \\/Tinkerer_(Skrull)_(Earth-616)   Secret Identity   \n16374         \\/TK421_(Spiderling)_(Earth-616)   Secret Identity   \n16375                  \\/Yologarch_(Earth-616)               NaN   \n\n                    ALIGN         EYE        HAIR              SEX  GSM  \\\n0         Good Characters  Hazel Eyes  Brown Hair  Male Characters  NaN   \n1         Good Characters   Blue Eyes  White Hair  Male Characters  NaN   \n2      Neutral Characters   Blue Eyes  Black Hair  Male Characters  NaN   \n3         Good Characters   Blue Eyes  Black Hair  Male Characters  NaN   \n4         Good Characters   Blue Eyes  Blond Hair  Male Characters  NaN   \n...                   ...         ...         ...              ...  ...   \n16371      Bad Characters  Green Eyes     No Hair  Male Characters  NaN   \n16372     Good Characters   Blue Eyes        Bald  Male Characters  NaN   \n16373      Bad Characters  Black Eyes        Bald  Male Characters  NaN   \n16374  Neutral Characters         NaN         NaN  Male Characters  NaN   \n16375      Bad Characters         NaN         NaN              NaN  NaN   \n\n                   ALIVE  APPEARANCES FIRST APPEARANCE    Year  \n0      Living Characters       4043.0           Aug-62  1962.0  \n1      Living Characters       3360.0           Mar-41  1941.0  \n2      Living Characters       3061.0           Oct-74  1974.0  \n3      Living Characters       2961.0           Mar-63  1963.0  \n4      Living Characters       2258.0           Nov-50  1950.0  \n...                  ...          ...              ...     ...  \n16371  Living Characters          NaN              NaN     NaN  \n16372  Living Characters          NaN              NaN     NaN  \n16373  Living Characters          NaN              NaN     NaN  \n16374  Living Characters          NaN              NaN     NaN  \n16375  Living Characters          NaN              NaN     NaN  \n\n[16376 rows x 13 columns]",
      "text/html": "<div>\n<style scoped>\n    .dataframe tbody tr th:only-of-type {\n        vertical-align: middle;\n    }\n\n    .dataframe tbody tr th {\n        vertical-align: top;\n    }\n\n    .dataframe thead th {\n        text-align: right;\n    }\n</style>\n<table border=\"1\" class=\"dataframe\">\n  <thead>\n    <tr style=\"text-align: right;\">\n      <th></th>\n      <th>page_id</th>\n      <th>name</th>\n      <th>urlslug</th>\n      <th>ID</th>\n      <th>ALIGN</th>\n      <th>EYE</th>\n      <th>HAIR</th>\n      <th>SEX</th>\n      <th>GSM</th>\n      <th>ALIVE</th>\n      <th>APPEARANCES</th>\n      <th>FIRST APPEARANCE</th>\n      <th>Year</th>\n    </tr>\n  </thead>\n  <tbody>\n    <tr>\n      <th>0</th>\n      <td>1678</td>\n      <td>Spider-Man (Peter Parker)</td>\n      <td>\\/Spider-Man_(Peter_Parker)</td>\n      <td>Secret Identity</td>\n      <td>Good Characters</td>\n      <td>Hazel Eyes</td>\n      <td>Brown Hair</td>\n      <td>Male Characters</td>\n      <td>NaN</td>\n      <td>Living Characters</td>\n      <td>4043.0</td>\n      <td>Aug-62</td>\n      <td>1962.0</td>\n    </tr>\n    <tr>\n      <th>1</th>\n      <td>7139</td>\n      <td>Captain America (Steven Rogers)</td>\n      <td>\\/Captain_America_(Steven_Rogers)</td>\n      <td>Public Identity</td>\n      <td>Good Characters</td>\n      <td>Blue Eyes</td>\n      <td>White Hair</td>\n      <td>Male Characters</td>\n      <td>NaN</td>\n      <td>Living Characters</td>\n      <td>3360.0</td>\n      <td>Mar-41</td>\n      <td>1941.0</td>\n    </tr>\n    <tr>\n      <th>2</th>\n      <td>64786</td>\n      <td>Wolverine (James \\\"Logan\\\" Howlett)</td>\n      <td>\\/Wolverine_(James_%22Logan%22_Howlett)</td>\n      <td>Public Identity</td>\n      <td>Neutral Characters</td>\n      <td>Blue Eyes</td>\n      <td>Black Hair</td>\n      <td>Male Characters</td>\n      <td>NaN</td>\n      <td>Living Characters</td>\n      <td>3061.0</td>\n      <td>Oct-74</td>\n      <td>1974.0</td>\n    </tr>\n    <tr>\n      <th>3</th>\n      <td>1868</td>\n      <td>Iron Man (Anthony \\\"Tony\\\" Stark)</td>\n      <td>\\/Iron_Man_(Anthony_%22Tony%22_Stark)</td>\n      <td>Public Identity</td>\n      <td>Good Characters</td>\n      <td>Blue Eyes</td>\n      <td>Black Hair</td>\n      <td>Male Characters</td>\n      <td>NaN</td>\n      <td>Living Characters</td>\n      <td>2961.0</td>\n      <td>Mar-63</td>\n      <td>1963.0</td>\n    </tr>\n    <tr>\n      <th>4</th>\n      <td>2460</td>\n      <td>Thor (Thor Odinson)</td>\n      <td>\\/Thor_(Thor_Odinson)</td>\n      <td>No Dual Identity</td>\n      <td>Good Characters</td>\n      <td>Blue Eyes</td>\n      <td>Blond Hair</td>\n      <td>Male Characters</td>\n      <td>NaN</td>\n      <td>Living Characters</td>\n      <td>2258.0</td>\n      <td>Nov-50</td>\n      <td>1950.0</td>\n    </tr>\n    <tr>\n      <th>...</th>\n      <td>...</td>\n      <td>...</td>\n      <td>...</td>\n      <td>...</td>\n      <td>...</td>\n      <td>...</td>\n      <td>...</td>\n      <td>...</td>\n      <td>...</td>\n      <td>...</td>\n      <td>...</td>\n      <td>...</td>\n      <td>...</td>\n    </tr>\n    <tr>\n      <th>16371</th>\n      <td>657508</td>\n      <td>Ru'ach (Earth-616)</td>\n      <td>\\/Ru%27ach_(Earth-616)</td>\n      <td>No Dual Identity</td>\n      <td>Bad Characters</td>\n      <td>Green Eyes</td>\n      <td>No Hair</td>\n      <td>Male Characters</td>\n      <td>NaN</td>\n      <td>Living Characters</td>\n      <td>NaN</td>\n      <td>NaN</td>\n      <td>NaN</td>\n    </tr>\n    <tr>\n      <th>16372</th>\n      <td>665474</td>\n      <td>Thane (Thanos' son) (Earth-616)</td>\n      <td>\\/Thane_(Thanos%27_son)_(Earth-616)</td>\n      <td>No Dual Identity</td>\n      <td>Good Characters</td>\n      <td>Blue Eyes</td>\n      <td>Bald</td>\n      <td>Male Characters</td>\n      <td>NaN</td>\n      <td>Living Characters</td>\n      <td>NaN</td>\n      <td>NaN</td>\n      <td>NaN</td>\n    </tr>\n    <tr>\n      <th>16373</th>\n      <td>695217</td>\n      <td>Tinkerer (Skrull) (Earth-616)</td>\n      <td>\\/Tinkerer_(Skrull)_(Earth-616)</td>\n      <td>Secret Identity</td>\n      <td>Bad Characters</td>\n      <td>Black Eyes</td>\n      <td>Bald</td>\n      <td>Male Characters</td>\n      <td>NaN</td>\n      <td>Living Characters</td>\n      <td>NaN</td>\n      <td>NaN</td>\n      <td>NaN</td>\n    </tr>\n    <tr>\n      <th>16374</th>\n      <td>708811</td>\n      <td>TK421 (Spiderling) (Earth-616)</td>\n      <td>\\/TK421_(Spiderling)_(Earth-616)</td>\n      <td>Secret Identity</td>\n      <td>Neutral Characters</td>\n      <td>NaN</td>\n      <td>NaN</td>\n      <td>Male Characters</td>\n      <td>NaN</td>\n      <td>Living Characters</td>\n      <td>NaN</td>\n      <td>NaN</td>\n      <td>NaN</td>\n    </tr>\n    <tr>\n      <th>16375</th>\n      <td>673702</td>\n      <td>Yologarch (Earth-616)</td>\n      <td>\\/Yologarch_(Earth-616)</td>\n      <td>NaN</td>\n      <td>Bad Characters</td>\n      <td>NaN</td>\n      <td>NaN</td>\n      <td>NaN</td>\n      <td>NaN</td>\n      <td>Living Characters</td>\n      <td>NaN</td>\n      <td>NaN</td>\n      <td>NaN</td>\n    </tr>\n  </tbody>\n</table>\n<p>16376 rows × 13 columns</p>\n</div>"
     },
     "metadata": {},
     "output_type": "execute_result",
     "execution_count": 2
    }
   ],
   "source": [
    "data = pd.read_csv('dataset.csv')\n",
    "data"
   ]
  },
  {
   "cell_type": "markdown",
   "metadata": {},
   "source": [
    "### Обработка пропусков в данных"
   ]
  },
  {
   "cell_type": "markdown",
   "metadata": {},
   "source": [
    "#### Проверим, есть ли пропущенные значения"
   ]
  },
  {
   "cell_type": "code",
   "execution_count": 3,
   "metadata": {
    "scrolled": true,
    "pycharm": {
     "is_executing": false
    }
   },
   "outputs": [
    {
     "data": {
      "text/plain": "page_id                 0\nname                    0\nurlslug                 0\nID                   3770\nALIGN                2812\nEYE                  9767\nHAIR                 4264\nSEX                   854\nGSM                 16286\nALIVE                   3\nAPPEARANCES          1096\nFIRST APPEARANCE      815\nYear                  815\ndtype: int64"
     },
     "metadata": {},
     "output_type": "execute_result",
     "execution_count": 3
    }
   ],
   "source": [
    "data.isnull().sum()"
   ]
  },
  {
   "cell_type": "markdown",
   "metadata": {},
   "source": [
    "### 1. Замена пустых значений на среднее"
   ]
  },
  {
   "cell_type": "markdown",
   "metadata": {},
   "source": [
    "Выполним замену для количественного признака APPEARANCES. "
   ]
  },
  {
   "cell_type": "markdown",
   "metadata": {},
   "source": [
    "1. Количество нулевых значений:"
   ]
  },
  {
   "cell_type": "code",
   "execution_count": 4,
   "metadata": {
    "pycharm": {
     "is_executing": false
    }
   },
   "outputs": [
    {
     "data": {
      "text/plain": "1096"
     },
     "metadata": {},
     "output_type": "execute_result",
     "execution_count": 4
    }
   ],
   "source": [
    "data['APPEARANCES'].isna().sum()"
   ]
  },
  {
   "cell_type": "markdown",
   "metadata": {},
   "source": [
    "2. Получим среднее:"
   ]
  },
  {
   "cell_type": "code",
   "execution_count": 5,
   "metadata": {
    "pycharm": {
     "is_executing": false
    }
   },
   "outputs": [
    {
     "data": {
      "text/plain": "17.033376963350786"
     },
     "metadata": {},
     "output_type": "execute_result",
     "execution_count": 5
    }
   ],
   "source": [
    "mean = data['APPEARANCES'].mean()\n",
    "mean"
   ]
  },
  {
   "cell_type": "markdown",
   "metadata": {},
   "source": [
    "3. Выполним замену и проверим количество пустых значений:"
   ]
  },
  {
   "cell_type": "code",
   "execution_count": 6,
   "metadata": {
    "pycharm": {
     "is_executing": false
    }
   },
   "outputs": [
    {
     "data": {
      "text/plain": "0"
     },
     "metadata": {},
     "output_type": "execute_result",
     "execution_count": 6
    }
   ],
   "source": [
    "data['APPEARANCES'].fillna(mean, inplace=True)\n",
    "data['APPEARANCES'].isna().sum()"
   ]
  },
  {
   "cell_type": "markdown",
   "metadata": {},
   "source": [
    "### 2. Удаление пустых значений"
   ]
  },
  {
   "cell_type": "markdown",
   "metadata": {},
   "source": [
    "Выполним удаление для категориального признака ALIGN."
   ]
  },
  {
   "cell_type": "markdown",
   "metadata": {},
   "source": [
    "1. Количество нулевых значений:"
   ]
  },
  {
   "cell_type": "code",
   "execution_count": 7,
   "metadata": {
    "scrolled": true,
    "pycharm": {
     "is_executing": false
    }
   },
   "outputs": [
    {
     "data": {
      "text/plain": "2812"
     },
     "metadata": {},
     "output_type": "execute_result",
     "execution_count": 7
    }
   ],
   "source": [
    "data['ALIGN'].isna().sum()"
   ]
  },
  {
   "cell_type": "markdown",
   "metadata": {},
   "source": [
    "2. Удалим строки, содержащие нулевое значение колонки ALIGN:"
   ]
  },
  {
   "cell_type": "code",
   "execution_count": 8,
   "metadata": {
    "scrolled": false,
    "pycharm": {
     "is_executing": false
    }
   },
   "outputs": [
    {
     "data": {
      "text/plain": "       page_id                                 name  \\\n0         1678            Spider-Man (Peter Parker)   \n1         7139      Captain America (Steven Rogers)   \n2        64786  Wolverine (James \\\"Logan\\\" Howlett)   \n3         1868    Iron Man (Anthony \\\"Tony\\\" Stark)   \n4         2460                  Thor (Thor Odinson)   \n...        ...                                  ...   \n16371   657508                   Ru'ach (Earth-616)   \n16372   665474      Thane (Thanos' son) (Earth-616)   \n16373   695217        Tinkerer (Skrull) (Earth-616)   \n16374   708811       TK421 (Spiderling) (Earth-616)   \n16375   673702                Yologarch (Earth-616)   \n\n                                       urlslug                ID  \\\n0                  \\/Spider-Man_(Peter_Parker)   Secret Identity   \n1            \\/Captain_America_(Steven_Rogers)   Public Identity   \n2      \\/Wolverine_(James_%22Logan%22_Howlett)   Public Identity   \n3        \\/Iron_Man_(Anthony_%22Tony%22_Stark)   Public Identity   \n4                        \\/Thor_(Thor_Odinson)  No Dual Identity   \n...                                        ...               ...   \n16371                   \\/Ru%27ach_(Earth-616)  No Dual Identity   \n16372      \\/Thane_(Thanos%27_son)_(Earth-616)  No Dual Identity   \n16373          \\/Tinkerer_(Skrull)_(Earth-616)   Secret Identity   \n16374         \\/TK421_(Spiderling)_(Earth-616)   Secret Identity   \n16375                  \\/Yologarch_(Earth-616)               NaN   \n\n                    ALIGN         EYE        HAIR              SEX  GSM  \\\n0         Good Characters  Hazel Eyes  Brown Hair  Male Characters  NaN   \n1         Good Characters   Blue Eyes  White Hair  Male Characters  NaN   \n2      Neutral Characters   Blue Eyes  Black Hair  Male Characters  NaN   \n3         Good Characters   Blue Eyes  Black Hair  Male Characters  NaN   \n4         Good Characters   Blue Eyes  Blond Hair  Male Characters  NaN   \n...                   ...         ...         ...              ...  ...   \n16371      Bad Characters  Green Eyes     No Hair  Male Characters  NaN   \n16372     Good Characters   Blue Eyes        Bald  Male Characters  NaN   \n16373      Bad Characters  Black Eyes        Bald  Male Characters  NaN   \n16374  Neutral Characters         NaN         NaN  Male Characters  NaN   \n16375      Bad Characters         NaN         NaN              NaN  NaN   \n\n                   ALIVE  APPEARANCES FIRST APPEARANCE    Year  \n0      Living Characters  4043.000000           Aug-62  1962.0  \n1      Living Characters  3360.000000           Mar-41  1941.0  \n2      Living Characters  3061.000000           Oct-74  1974.0  \n3      Living Characters  2961.000000           Mar-63  1963.0  \n4      Living Characters  2258.000000           Nov-50  1950.0  \n...                  ...          ...              ...     ...  \n16371  Living Characters    17.033377              NaN     NaN  \n16372  Living Characters    17.033377              NaN     NaN  \n16373  Living Characters    17.033377              NaN     NaN  \n16374  Living Characters    17.033377              NaN     NaN  \n16375  Living Characters    17.033377              NaN     NaN  \n\n[13564 rows x 13 columns]",
      "text/html": "<div>\n<style scoped>\n    .dataframe tbody tr th:only-of-type {\n        vertical-align: middle;\n    }\n\n    .dataframe tbody tr th {\n        vertical-align: top;\n    }\n\n    .dataframe thead th {\n        text-align: right;\n    }\n</style>\n<table border=\"1\" class=\"dataframe\">\n  <thead>\n    <tr style=\"text-align: right;\">\n      <th></th>\n      <th>page_id</th>\n      <th>name</th>\n      <th>urlslug</th>\n      <th>ID</th>\n      <th>ALIGN</th>\n      <th>EYE</th>\n      <th>HAIR</th>\n      <th>SEX</th>\n      <th>GSM</th>\n      <th>ALIVE</th>\n      <th>APPEARANCES</th>\n      <th>FIRST APPEARANCE</th>\n      <th>Year</th>\n    </tr>\n  </thead>\n  <tbody>\n    <tr>\n      <th>0</th>\n      <td>1678</td>\n      <td>Spider-Man (Peter Parker)</td>\n      <td>\\/Spider-Man_(Peter_Parker)</td>\n      <td>Secret Identity</td>\n      <td>Good Characters</td>\n      <td>Hazel Eyes</td>\n      <td>Brown Hair</td>\n      <td>Male Characters</td>\n      <td>NaN</td>\n      <td>Living Characters</td>\n      <td>4043.000000</td>\n      <td>Aug-62</td>\n      <td>1962.0</td>\n    </tr>\n    <tr>\n      <th>1</th>\n      <td>7139</td>\n      <td>Captain America (Steven Rogers)</td>\n      <td>\\/Captain_America_(Steven_Rogers)</td>\n      <td>Public Identity</td>\n      <td>Good Characters</td>\n      <td>Blue Eyes</td>\n      <td>White Hair</td>\n      <td>Male Characters</td>\n      <td>NaN</td>\n      <td>Living Characters</td>\n      <td>3360.000000</td>\n      <td>Mar-41</td>\n      <td>1941.0</td>\n    </tr>\n    <tr>\n      <th>2</th>\n      <td>64786</td>\n      <td>Wolverine (James \\\"Logan\\\" Howlett)</td>\n      <td>\\/Wolverine_(James_%22Logan%22_Howlett)</td>\n      <td>Public Identity</td>\n      <td>Neutral Characters</td>\n      <td>Blue Eyes</td>\n      <td>Black Hair</td>\n      <td>Male Characters</td>\n      <td>NaN</td>\n      <td>Living Characters</td>\n      <td>3061.000000</td>\n      <td>Oct-74</td>\n      <td>1974.0</td>\n    </tr>\n    <tr>\n      <th>3</th>\n      <td>1868</td>\n      <td>Iron Man (Anthony \\\"Tony\\\" Stark)</td>\n      <td>\\/Iron_Man_(Anthony_%22Tony%22_Stark)</td>\n      <td>Public Identity</td>\n      <td>Good Characters</td>\n      <td>Blue Eyes</td>\n      <td>Black Hair</td>\n      <td>Male Characters</td>\n      <td>NaN</td>\n      <td>Living Characters</td>\n      <td>2961.000000</td>\n      <td>Mar-63</td>\n      <td>1963.0</td>\n    </tr>\n    <tr>\n      <th>4</th>\n      <td>2460</td>\n      <td>Thor (Thor Odinson)</td>\n      <td>\\/Thor_(Thor_Odinson)</td>\n      <td>No Dual Identity</td>\n      <td>Good Characters</td>\n      <td>Blue Eyes</td>\n      <td>Blond Hair</td>\n      <td>Male Characters</td>\n      <td>NaN</td>\n      <td>Living Characters</td>\n      <td>2258.000000</td>\n      <td>Nov-50</td>\n      <td>1950.0</td>\n    </tr>\n    <tr>\n      <th>...</th>\n      <td>...</td>\n      <td>...</td>\n      <td>...</td>\n      <td>...</td>\n      <td>...</td>\n      <td>...</td>\n      <td>...</td>\n      <td>...</td>\n      <td>...</td>\n      <td>...</td>\n      <td>...</td>\n      <td>...</td>\n      <td>...</td>\n    </tr>\n    <tr>\n      <th>16371</th>\n      <td>657508</td>\n      <td>Ru'ach (Earth-616)</td>\n      <td>\\/Ru%27ach_(Earth-616)</td>\n      <td>No Dual Identity</td>\n      <td>Bad Characters</td>\n      <td>Green Eyes</td>\n      <td>No Hair</td>\n      <td>Male Characters</td>\n      <td>NaN</td>\n      <td>Living Characters</td>\n      <td>17.033377</td>\n      <td>NaN</td>\n      <td>NaN</td>\n    </tr>\n    <tr>\n      <th>16372</th>\n      <td>665474</td>\n      <td>Thane (Thanos' son) (Earth-616)</td>\n      <td>\\/Thane_(Thanos%27_son)_(Earth-616)</td>\n      <td>No Dual Identity</td>\n      <td>Good Characters</td>\n      <td>Blue Eyes</td>\n      <td>Bald</td>\n      <td>Male Characters</td>\n      <td>NaN</td>\n      <td>Living Characters</td>\n      <td>17.033377</td>\n      <td>NaN</td>\n      <td>NaN</td>\n    </tr>\n    <tr>\n      <th>16373</th>\n      <td>695217</td>\n      <td>Tinkerer (Skrull) (Earth-616)</td>\n      <td>\\/Tinkerer_(Skrull)_(Earth-616)</td>\n      <td>Secret Identity</td>\n      <td>Bad Characters</td>\n      <td>Black Eyes</td>\n      <td>Bald</td>\n      <td>Male Characters</td>\n      <td>NaN</td>\n      <td>Living Characters</td>\n      <td>17.033377</td>\n      <td>NaN</td>\n      <td>NaN</td>\n    </tr>\n    <tr>\n      <th>16374</th>\n      <td>708811</td>\n      <td>TK421 (Spiderling) (Earth-616)</td>\n      <td>\\/TK421_(Spiderling)_(Earth-616)</td>\n      <td>Secret Identity</td>\n      <td>Neutral Characters</td>\n      <td>NaN</td>\n      <td>NaN</td>\n      <td>Male Characters</td>\n      <td>NaN</td>\n      <td>Living Characters</td>\n      <td>17.033377</td>\n      <td>NaN</td>\n      <td>NaN</td>\n    </tr>\n    <tr>\n      <th>16375</th>\n      <td>673702</td>\n      <td>Yologarch (Earth-616)</td>\n      <td>\\/Yologarch_(Earth-616)</td>\n      <td>NaN</td>\n      <td>Bad Characters</td>\n      <td>NaN</td>\n      <td>NaN</td>\n      <td>NaN</td>\n      <td>NaN</td>\n      <td>Living Characters</td>\n      <td>17.033377</td>\n      <td>NaN</td>\n      <td>NaN</td>\n    </tr>\n  </tbody>\n</table>\n<p>13564 rows × 13 columns</p>\n</div>"
     },
     "metadata": {},
     "output_type": "execute_result",
     "execution_count": 8
    }
   ],
   "source": [
    "data = data[~data['ALIGN'].isna()]\n",
    "data"
   ]
  },
  {
   "cell_type": "markdown",
   "metadata": {},
   "source": [
    "Как можно видеть, количество строк датасета уменьшилось."
   ]
  },
  {
   "cell_type": "markdown",
   "metadata": {},
   "source": [
    "3. Проверим количество пустых значений поля ALIGN:"
   ]
  },
  {
   "cell_type": "code",
   "execution_count": 9,
   "metadata": {
    "pycharm": {
     "is_executing": false
    }
   },
   "outputs": [
    {
     "data": {
      "text/plain": "0"
     },
     "metadata": {},
     "output_type": "execute_result",
     "execution_count": 9
    }
   ],
   "source": [
    "data['ALIGN'].isna().sum()"
   ]
  },
  {
   "cell_type": "markdown",
   "metadata": {},
   "source": [
    "### Дополнительное задание"
   ]
  },
  {
   "cell_type": "markdown",
   "metadata": {},
   "source": [
    "Построим график \"Скрипичная диаграмма\" (Violin plot) для поля YEAR"
   ]
  },
  {
   "cell_type": "code",
   "execution_count": 10,
   "metadata": {
    "pycharm": {
     "is_executing": false
    }
   },
   "outputs": [
    {
     "traceback": [
      "\u001b[1;31m---------------------------------------------------------------------------\u001b[0m",
      "\u001b[1;31mKeyError\u001b[0m                                  Traceback (most recent call last)",
      "\u001b[1;32mc:\\users\\is-st\\appdata\\local\\programs\\python\\python37-32\\lib\\site-packages\\pandas\\core\\indexes\\base.py\u001b[0m in \u001b[0;36mget_loc\u001b[1;34m(self, key, method, tolerance)\u001b[0m\n\u001b[0;32m   2645\u001b[0m             \u001b[1;32mtry\u001b[0m\u001b[1;33m:\u001b[0m\u001b[1;33m\u001b[0m\u001b[1;33m\u001b[0m\u001b[0m\n\u001b[1;32m-> 2646\u001b[1;33m                 \u001b[1;32mreturn\u001b[0m \u001b[0mself\u001b[0m\u001b[1;33m.\u001b[0m\u001b[0m_engine\u001b[0m\u001b[1;33m.\u001b[0m\u001b[0mget_loc\u001b[0m\u001b[1;33m(\u001b[0m\u001b[0mkey\u001b[0m\u001b[1;33m)\u001b[0m\u001b[1;33m\u001b[0m\u001b[1;33m\u001b[0m\u001b[0m\n\u001b[0m\u001b[0;32m   2647\u001b[0m             \u001b[1;32mexcept\u001b[0m \u001b[0mKeyError\u001b[0m\u001b[1;33m:\u001b[0m\u001b[1;33m\u001b[0m\u001b[1;33m\u001b[0m\u001b[0m\n",
      "\u001b[1;32mpandas\\_libs\\index.pyx\u001b[0m in \u001b[0;36mpandas._libs.index.IndexEngine.get_loc\u001b[1;34m()\u001b[0m\n",
      "\u001b[1;32mpandas\\_libs\\index.pyx\u001b[0m in \u001b[0;36mpandas._libs.index.IndexEngine.get_loc\u001b[1;34m()\u001b[0m\n",
      "\u001b[1;32mpandas\\_libs\\hashtable_class_helper.pxi\u001b[0m in \u001b[0;36mpandas._libs.hashtable.PyObjectHashTable.get_item\u001b[1;34m()\u001b[0m\n",
      "\u001b[1;32mpandas\\_libs\\hashtable_class_helper.pxi\u001b[0m in \u001b[0;36mpandas._libs.hashtable.PyObjectHashTable.get_item\u001b[1;34m()\u001b[0m\n",
      "\u001b[1;31mKeyError\u001b[0m: 'YEAR'",
      "\nDuring handling of the above exception, another exception occurred:\n",
      "\u001b[1;31mKeyError\u001b[0m                                  Traceback (most recent call last)",
      "\u001b[1;32m<ipython-input-10-eceb17d88047>\u001b[0m in \u001b[0;36m<module>\u001b[1;34m\u001b[0m\n\u001b[0;32m      1\u001b[0m \u001b[1;32mimport\u001b[0m \u001b[0mseaborn\u001b[0m \u001b[1;32mas\u001b[0m \u001b[0msns\u001b[0m\u001b[1;33m\u001b[0m\u001b[1;33m\u001b[0m\u001b[0m\n\u001b[1;32m----> 2\u001b[1;33m \u001b[0msns\u001b[0m\u001b[1;33m.\u001b[0m\u001b[0mviolinplot\u001b[0m\u001b[1;33m(\u001b[0m\u001b[0mx\u001b[0m\u001b[1;33m=\u001b[0m\u001b[0mdata\u001b[0m\u001b[1;33m[\u001b[0m\u001b[1;34m'YEAR'\u001b[0m\u001b[1;33m]\u001b[0m\u001b[1;33m)\u001b[0m\u001b[1;33m\u001b[0m\u001b[1;33m\u001b[0m\u001b[0m\n\u001b[0m",
      "\u001b[1;32mc:\\users\\is-st\\appdata\\local\\programs\\python\\python37-32\\lib\\site-packages\\pandas\\core\\frame.py\u001b[0m in \u001b[0;36m__getitem__\u001b[1;34m(self, key)\u001b[0m\n\u001b[0;32m   2798\u001b[0m             \u001b[1;32mif\u001b[0m \u001b[0mself\u001b[0m\u001b[1;33m.\u001b[0m\u001b[0mcolumns\u001b[0m\u001b[1;33m.\u001b[0m\u001b[0mnlevels\u001b[0m \u001b[1;33m>\u001b[0m \u001b[1;36m1\u001b[0m\u001b[1;33m:\u001b[0m\u001b[1;33m\u001b[0m\u001b[1;33m\u001b[0m\u001b[0m\n\u001b[0;32m   2799\u001b[0m                 \u001b[1;32mreturn\u001b[0m \u001b[0mself\u001b[0m\u001b[1;33m.\u001b[0m\u001b[0m_getitem_multilevel\u001b[0m\u001b[1;33m(\u001b[0m\u001b[0mkey\u001b[0m\u001b[1;33m)\u001b[0m\u001b[1;33m\u001b[0m\u001b[1;33m\u001b[0m\u001b[0m\n\u001b[1;32m-> 2800\u001b[1;33m             \u001b[0mindexer\u001b[0m \u001b[1;33m=\u001b[0m \u001b[0mself\u001b[0m\u001b[1;33m.\u001b[0m\u001b[0mcolumns\u001b[0m\u001b[1;33m.\u001b[0m\u001b[0mget_loc\u001b[0m\u001b[1;33m(\u001b[0m\u001b[0mkey\u001b[0m\u001b[1;33m)\u001b[0m\u001b[1;33m\u001b[0m\u001b[1;33m\u001b[0m\u001b[0m\n\u001b[0m\u001b[0;32m   2801\u001b[0m             \u001b[1;32mif\u001b[0m \u001b[0mis_integer\u001b[0m\u001b[1;33m(\u001b[0m\u001b[0mindexer\u001b[0m\u001b[1;33m)\u001b[0m\u001b[1;33m:\u001b[0m\u001b[1;33m\u001b[0m\u001b[1;33m\u001b[0m\u001b[0m\n\u001b[0;32m   2802\u001b[0m                 \u001b[0mindexer\u001b[0m \u001b[1;33m=\u001b[0m \u001b[1;33m[\u001b[0m\u001b[0mindexer\u001b[0m\u001b[1;33m]\u001b[0m\u001b[1;33m\u001b[0m\u001b[1;33m\u001b[0m\u001b[0m\n",
      "\u001b[1;32mc:\\users\\is-st\\appdata\\local\\programs\\python\\python37-32\\lib\\site-packages\\pandas\\core\\indexes\\base.py\u001b[0m in \u001b[0;36mget_loc\u001b[1;34m(self, key, method, tolerance)\u001b[0m\n\u001b[0;32m   2646\u001b[0m                 \u001b[1;32mreturn\u001b[0m \u001b[0mself\u001b[0m\u001b[1;33m.\u001b[0m\u001b[0m_engine\u001b[0m\u001b[1;33m.\u001b[0m\u001b[0mget_loc\u001b[0m\u001b[1;33m(\u001b[0m\u001b[0mkey\u001b[0m\u001b[1;33m)\u001b[0m\u001b[1;33m\u001b[0m\u001b[1;33m\u001b[0m\u001b[0m\n\u001b[0;32m   2647\u001b[0m             \u001b[1;32mexcept\u001b[0m \u001b[0mKeyError\u001b[0m\u001b[1;33m:\u001b[0m\u001b[1;33m\u001b[0m\u001b[1;33m\u001b[0m\u001b[0m\n\u001b[1;32m-> 2648\u001b[1;33m                 \u001b[1;32mreturn\u001b[0m \u001b[0mself\u001b[0m\u001b[1;33m.\u001b[0m\u001b[0m_engine\u001b[0m\u001b[1;33m.\u001b[0m\u001b[0mget_loc\u001b[0m\u001b[1;33m(\u001b[0m\u001b[0mself\u001b[0m\u001b[1;33m.\u001b[0m\u001b[0m_maybe_cast_indexer\u001b[0m\u001b[1;33m(\u001b[0m\u001b[0mkey\u001b[0m\u001b[1;33m)\u001b[0m\u001b[1;33m)\u001b[0m\u001b[1;33m\u001b[0m\u001b[1;33m\u001b[0m\u001b[0m\n\u001b[0m\u001b[0;32m   2649\u001b[0m         \u001b[0mindexer\u001b[0m \u001b[1;33m=\u001b[0m \u001b[0mself\u001b[0m\u001b[1;33m.\u001b[0m\u001b[0mget_indexer\u001b[0m\u001b[1;33m(\u001b[0m\u001b[1;33m[\u001b[0m\u001b[0mkey\u001b[0m\u001b[1;33m]\u001b[0m\u001b[1;33m,\u001b[0m \u001b[0mmethod\u001b[0m\u001b[1;33m=\u001b[0m\u001b[0mmethod\u001b[0m\u001b[1;33m,\u001b[0m \u001b[0mtolerance\u001b[0m\u001b[1;33m=\u001b[0m\u001b[0mtolerance\u001b[0m\u001b[1;33m)\u001b[0m\u001b[1;33m\u001b[0m\u001b[1;33m\u001b[0m\u001b[0m\n\u001b[0;32m   2650\u001b[0m         \u001b[1;32mif\u001b[0m \u001b[0mindexer\u001b[0m\u001b[1;33m.\u001b[0m\u001b[0mndim\u001b[0m \u001b[1;33m>\u001b[0m \u001b[1;36m1\u001b[0m \u001b[1;32mor\u001b[0m \u001b[0mindexer\u001b[0m\u001b[1;33m.\u001b[0m\u001b[0msize\u001b[0m \u001b[1;33m>\u001b[0m \u001b[1;36m1\u001b[0m\u001b[1;33m:\u001b[0m\u001b[1;33m\u001b[0m\u001b[1;33m\u001b[0m\u001b[0m\n",
      "\u001b[1;32mpandas\\_libs\\index.pyx\u001b[0m in \u001b[0;36mpandas._libs.index.IndexEngine.get_loc\u001b[1;34m()\u001b[0m\n",
      "\u001b[1;32mpandas\\_libs\\index.pyx\u001b[0m in \u001b[0;36mpandas._libs.index.IndexEngine.get_loc\u001b[1;34m()\u001b[0m\n",
      "\u001b[1;32mpandas\\_libs\\hashtable_class_helper.pxi\u001b[0m in \u001b[0;36mpandas._libs.hashtable.PyObjectHashTable.get_item\u001b[1;34m()\u001b[0m\n",
      "\u001b[1;32mpandas\\_libs\\hashtable_class_helper.pxi\u001b[0m in \u001b[0;36mpandas._libs.hashtable.PyObjectHashTable.get_item\u001b[1;34m()\u001b[0m\n",
      "\u001b[1;31mKeyError\u001b[0m: 'YEAR'"
     ],
     "ename": "KeyError",
     "evalue": "'YEAR'",
     "output_type": "error"
    }
   ],
   "source": [
    "import seaborn as sns\n",
    "sns.violinplot(x=data['YEAR'])"
   ]
  }
 ],
 "metadata": {
  "kernelspec": {
   "display_name": "Python 3",
   "language": "python",
   "name": "python3"
  },
  "language_info": {
   "codemirror_mode": {
    "name": "ipython",
    "version": 3
   },
   "file_extension": ".py",
   "mimetype": "text/x-python",
   "name": "python",
   "nbconvert_exporter": "python",
   "pygments_lexer": "ipython3",
   "version": "3.8.1"
  },
  "pycharm": {
   "stem_cell": {
    "cell_type": "raw",
    "source": [],
    "metadata": {
     "collapsed": false
    }
   }
  }
 },
 "nbformat": 4,
 "nbformat_minor": 4
}