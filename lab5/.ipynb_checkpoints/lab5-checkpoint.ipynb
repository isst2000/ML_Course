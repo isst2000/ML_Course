{
 "cells": [
  {
   "cell_type": "code",
   "execution_count": 1,
   "metadata": {
    "pycharm": {
     "is_executing": false
    }
   },
   "outputs": [],
   "source": [
    "from sklearn.model_selection import train_test_split\n",
    "from sklearn.metrics import accuracy_score, balanced_accuracy_score\n",
    "from sklearn.metrics import precision_score, recall_score, f1_score, classification_report\n",
    "from sklearn.metrics import confusion_matrix\n",
    "import seaborn as sns\n",
    "import matplotlib.pyplot as plt\n",
    "from sklearn.model_selection import cross_val_score, cross_validate, KFold, LeaveOneOut, GridSearchCV,learning_curve,validation_curve\n",
    "%matplotlib inline \n",
    "sns.set(style=\"ticks\")\n",
    "import mglearn"
   ]
  },
  {
   "cell_type": "code",
   "execution_count": 2,
   "metadata": {
    "pycharm": {
     "is_executing": false
    }
   },
   "outputs": [
    {
     "name": "stderr",
     "output_type": "stream",
     "text": [
      "c:\\users\\is-st\\appdata\\local\\programs\\python\\python37-32\\lib\\site-packages\\sklearn\\utils\\deprecation.py:86: FutureWarning: Function make_blobs is deprecated; Please import make_blobs directly from scikit-learn\n",
      "  warnings.warn(msg, category=FutureWarning)\n"
     ]
    },
    {
     "data": {
      "text/plain": [
       "array([[ 9.96346605,  4.59676542],\n",
       "       [11.0329545 , -0.16816717],\n",
       "       [11.54155807,  5.21116083],\n",
       "       [ 8.69289001,  1.54322016],\n",
       "       [ 8.1062269 ,  4.28695977],\n",
       "       [ 8.30988863,  4.80623966],\n",
       "       [11.93027136,  4.64866327],\n",
       "       [ 9.67284681, -0.20283165],\n",
       "       [ 8.34810316,  5.13415623],\n",
       "       [ 8.67494727,  4.47573059],\n",
       "       [ 9.17748385,  5.09283177],\n",
       "       [10.24028948,  2.45544401],\n",
       "       [ 8.68937095,  1.48709629],\n",
       "       [ 8.92229526, -0.63993225],\n",
       "       [ 9.49123469,  4.33224792],\n",
       "       [ 9.25694192,  5.13284858],\n",
       "       [ 7.99815287,  4.8525051 ],\n",
       "       [ 8.18378052,  1.29564214],\n",
       "       [ 8.7337095 ,  2.49162431],\n",
       "       [ 9.32298256,  5.09840649],\n",
       "       [10.06393839,  0.99078055],\n",
       "       [ 9.50048972, -0.26430318],\n",
       "       [ 8.34468785,  1.63824349],\n",
       "       [ 9.50169345,  1.93824624],\n",
       "       [ 9.15072323,  5.49832246],\n",
       "       [11.563957  ,  1.3389402 ]])"
      ]
     },
     "execution_count": 2,
     "metadata": {},
     "output_type": "execute_result"
    }
   ],
   "source": [
    "from sklearn.linear_model import LogisticRegression\n",
    "from sklearn.svm import SVC\n",
    "from sklearn.tree import DecisionTreeClassifier\n",
    "X, y = mglearn.datasets.make_forge()\n",
    "X"
   ]
  },
  {
   "cell_type": "code",
   "execution_count": 3,
   "metadata": {
    "pycharm": {
     "is_executing": false
    }
   },
   "outputs": [
    {
     "data": {
      "image/png": "[encoded data removed]",
      "text/plain": [
       "<Figure size 720x216 with 2 Axes>"
      ]
     },
     "metadata": {},
     "output_type": "display_data"
    }
   ],
   "source": [
    "fig, axes = plt.subplots(1, 2, figsize=(10, 3))\n",
    "\n",
    "for model, ax in zip([SVC(), LogisticRegression()], axes):\n",
    " clf = model.fit(X, y)\n",
    " mglearn.plots.plot_2d_separator(clf, X, fill=False, eps=0.5,\n",
    " ax=ax, alpha=.7)\n",
    " mglearn.discrete_scatter(X[:, 0], X[:, 1], y, ax=ax)\n",
    " ax.set_title(\"{}\".format(clf.__class__.__name__))\n",
    " ax.set_xlabel(\"Признак 0\")\n",
    " ax.set_ylabel(\"Признак 1\")\n",
    "axes[0].legend()\n",
    "\n",
    "X_train, X_test, y_train, y_test = train_test_split(X, y, stratify=y, random_state=42)"
   ]
  },
  {
   "cell_type": "code",
   "execution_count": 4,
   "metadata": {
    "pycharm": {
     "is_executing": false
    }
   },
   "outputs": [
    {
     "name": "stdout",
     "output_type": "stream",
     "text": [
      "Правильность на обучающем наборе 0.9473684210526315\n",
      "Правильность на тестовом наборе 0.8571428571428571\n"
     ]
    }
   ],
   "source": [
    "logreg = LogisticRegression().fit(X_train, y_train)\n",
    "score_train = logreg.score(X_train, y_train)\n",
    "score_test = logreg.score(X_test, y_test)\n",
    "print(\"Правильность на обучающем наборе {}\".format(score_train))\n",
    "print(\"Правильность на тестовом наборе {}\".format(score_test))"
   ]
  },
  {
   "cell_type": "code",
   "execution_count": 5,
   "metadata": {
    "pycharm": {
     "is_executing": false
    }
   },
   "outputs": [
    {
     "name": "stdout",
     "output_type": "stream",
     "text": [
      "Правильность на обучающем наборе 1.0\n",
      "Правильность на тестовом наборе 0.8571428571428571\n"
     ]
    }
   ],
   "source": [
    "decTree = DecisionTreeClassifier(max_depth = 4).fit(X_train, y_train)\n",
    "score_train_tree = decTree.score(X_train, y_train)\n",
    "score_test_tree = decTree.score(X_test, y_test)\n",
    "print(\"Правильность на обучающем наборе {}\".format(score_train_tree))\n",
    "print(\"Правильность на тестовом наборе {}\".format(score_test_tree))"
   ]
  },
  {
   "cell_type": "code",
   "execution_count": 6,
   "metadata": {
    "pycharm": {
     "is_executing": false
    }
   },
   "outputs": [
    {
     "name": "stdout",
     "output_type": "stream",
     "text": [
      "Правильность на обучающем наборе 0.9473684210526315\n",
      "Правильность на тестовом наборе 0.8571428571428571\n"
     ]
    }
   ],
   "source": [
    "linSVM = SVC().fit(X_train, y_train)\n",
    "score_train_SVM = linSVM.score(X_train, y_train)\n",
    "score_test_SVM = linSVM.score(X_test, y_test)\n",
    "print(\"Правильность на обучающем наборе {}\".format(score_train_SVM))\n",
    "print(\"Правильность на тестовом наборе {}\".format(score_test_SVM))"
   ]
  },
  {
   "cell_type": "code",
   "execution_count": 7,
   "metadata": {
    "pycharm": {
     "is_executing": false
    }
   },
   "outputs": [
    {
     "name": "stdout",
     "output_type": "stream",
     "text": [
      "Логистическая регрессия \n",
      "\n",
      "Метод accuracy_score\n",
      "0.8571428571428571\n",
      "Метод confusion_matrix\n",
      "[[4 0]\n",
      " [1 2]]\n",
      "Метод classification_report\n",
      "              precision    recall  f1-score   support\n",
      "\n",
      "           0       0.80      1.00      0.89         4\n",
      "           1       1.00      0.67      0.80         3\n",
      "\n",
      "    accuracy                           0.86         7\n",
      "   macro avg       0.90      0.83      0.84         7\n",
      "weighted avg       0.89      0.86      0.85         7\n",
      "\n"
     ]
    }
   ],
   "source": [
    "print(\"Логистическая регрессия \\n\")\n",
    "for method in [accuracy_score,confusion_matrix, classification_report]:\n",
    "    print(\"Метод {}\".format(method.__name__))\n",
    "    print(method(y_test,logreg.predict(X_test)))"
   ]
  },
  {
   "cell_type": "code",
   "execution_count": 8,
   "metadata": {
    "pycharm": {
     "is_executing": false
    }
   },
   "outputs": [
    {
     "name": "stdout",
     "output_type": "stream",
     "text": [
      "SVM \n",
      "\n",
      "Метод accuracy_score\n",
      "0.8571428571428571\n",
      "Метод confusion_matrix\n",
      "[[4 0]\n",
      " [1 2]]\n",
      "Метод classification_report\n",
      "              precision    recall  f1-score   support\n",
      "\n",
      "           0       0.80      1.00      0.89         4\n",
      "           1       1.00      0.67      0.80         3\n",
      "\n",
      "    accuracy                           0.86         7\n",
      "   macro avg       0.90      0.83      0.84         7\n",
      "weighted avg       0.89      0.86      0.85         7\n",
      "\n"
     ]
    }
   ],
   "source": [
    "print(\"SVM \\n\")\n",
    "for method in [accuracy_score,confusion_matrix, classification_report]:\n",
    "    print(\"Метод {}\".format(method.__name__))\n",
    "    print(method(y_test,linSVM.predict(X_test)))"
   ]
  },
  {
   "cell_type": "code",
   "execution_count": 9,
   "metadata": {
    "pycharm": {
     "is_executing": false
    }
   },
   "outputs": [
    {
     "name": "stdout",
     "output_type": "stream",
     "text": [
      "Tree \n",
      "\n",
      "Метод accuracy_score\n",
      "0.8571428571428571\n",
      "Метод confusion_matrix\n",
      "[[4 0]\n",
      " [1 2]]\n",
      "Метод classification_report\n",
      "              precision    recall  f1-score   support\n",
      "\n",
      "           0       0.80      1.00      0.89         4\n",
      "           1       1.00      0.67      0.80         3\n",
      "\n",
      "    accuracy                           0.86         7\n",
      "   macro avg       0.90      0.83      0.84         7\n",
      "weighted avg       0.89      0.86      0.85         7\n",
      "\n"
     ]
    }
   ],
   "source": [
    "print(\"Tree \\n\")\n",
    "for method in [accuracy_score,confusion_matrix, classification_report]:\n",
    "    print(\"Метод {}\".format(method.__name__))\n",
    "    print(method(y_test,decTree.predict(X_test)))"
   ]
  },
  {
   "cell_type": "code",
   "execution_count": 10,
   "metadata": {
    "pycharm": {
     "is_executing": false
    }
   },
   "outputs": [
    {
     "name": "stdout",
     "output_type": "stream",
     "text": [
      "0.1\n",
      "0.01\n",
      "1\n"
     ]
    }
   ],
   "source": [
    "CTP = [{'C':[0.001,0.01,0.1,1,10,100,1000]}]\n",
    "GammaTP = [{'gamma':[0.001,0.01,0.1,1,10,100,1000]}]\n",
    "DepthTP = [{'max_depth':[1,2,3,4,5,6,7,8,9,10]}]\n",
    "bestParams=[]\n",
    "\n",
    "for model,tuned_parameters,koef_name in zip([LogisticRegression(solver='liblinear'),SVC(),DecisionTreeClassifier()],[CTP,GammaTP,DepthTP],['C','gamma','max_depth']):\n",
    "    modelGS = GridSearchCV(model, tuned_parameters, cv=LeaveOneOut(), scoring='accuracy')\n",
    "    modelGS.fit(X_train,y_train)\n",
    "    print(modelGS.best_params_.get(koef_name))\n",
    "    bestParams.append(modelGS.best_params_.get(koef_name))"
   ]
  },
  {
   "cell_type": "code",
   "execution_count": 11,
   "metadata": {
    "pycharm": {
     "is_executing": false
    }
   },
   "outputs": [
    {
     "name": "stdout",
     "output_type": "stream",
     "text": [
      "Подобранные гиперпараметры:\n",
      "    Логистическая регрессия: параметр С:  0.1\n",
      "    Метод Опорных Векторов: параметр gamma:  0.01\n",
      "    Дерево решений: параметр глубина:  1\n"
     ]
    }
   ],
   "source": [
    "print('Подобранные гиперпараметры:')\n",
    "print('    Логистическая регрессия: параметр С: ',bestParams[0])\n",
    "print('    Метод Опорных Векторов: параметр gamma: ',bestParams[1])\n",
    "print('    Дерево решений: параметр глубина: ',bestParams[2])"
   ]
  },
  {
   "cell_type": "code",
   "execution_count": 12,
   "metadata": {
    "pycharm": {
     "is_executing": false
    }
   },
   "outputs": [],
   "source": [
    "LogRegBest = LogisticRegression(C=bestParams[0], solver='liblinear')\n",
    "SVCBest = SVC(gamma = bestParams[1])\n",
    "DecTreeBest = DecisionTreeClassifier(max_depth = bestParams[2])"
   ]
  },
  {
   "cell_type": "code",
   "execution_count": 13,
   "metadata": {
    "pycharm": {
     "is_executing": false
    }
   },
   "outputs": [],
   "source": [
    "for model in [LogRegBest,SVCBest,DecTreeBest]:\n",
    "    model.fit(X_train,y_train)"
   ]
  },
  {
   "cell_type": "code",
   "execution_count": 14,
   "metadata": {
    "pycharm": {
     "is_executing": false
    }
   },
   "outputs": [
    {
     "name": "stdout",
     "output_type": "stream",
     "text": [
      "Логистическая регрессия \n",
      "\n",
      "Метод accuracy_score\n",
      "0.8571428571428571\n",
      "Метод confusion_matrix\n",
      "[[4 0]\n",
      " [1 2]]\n",
      "Метод classification_report\n",
      "              precision    recall  f1-score   support\n",
      "\n",
      "           0       0.80      1.00      0.89         4\n",
      "           1       1.00      0.67      0.80         3\n",
      "\n",
      "    accuracy                           0.86         7\n",
      "   macro avg       0.90      0.83      0.84         7\n",
      "weighted avg       0.89      0.86      0.85         7\n",
      "\n"
     ]
    }
   ],
   "source": [
    "print(\"Логистическая регрессия \\n\")\n",
    "for method in [accuracy_score,confusion_matrix, classification_report]:\n",
    "    print(\"Метод {}\".format(method.__name__))\n",
    "    print(method(y_test,LogRegBest.predict(X_test)))"
   ]
  },
  {
   "cell_type": "code",
   "execution_count": 15,
   "metadata": {
    "pycharm": {
     "is_executing": false
    }
   },
   "outputs": [
    {
     "name": "stdout",
     "output_type": "stream",
     "text": [
      "SVC \n",
      "\n",
      "Метод accuracy_score\n",
      "0.8571428571428571\n",
      "Метод confusion_matrix\n",
      "[[4 0]\n",
      " [1 2]]\n",
      "Метод classification_report\n",
      "              precision    recall  f1-score   support\n",
      "\n",
      "           0       0.80      1.00      0.89         4\n",
      "           1       1.00      0.67      0.80         3\n",
      "\n",
      "    accuracy                           0.86         7\n",
      "   macro avg       0.90      0.83      0.84         7\n",
      "weighted avg       0.89      0.86      0.85         7\n",
      "\n"
     ]
    }
   ],
   "source": [
    "print(\"SVC \\n\")\n",
    "for method in [accuracy_score,confusion_matrix, classification_report]:\n",
    "    print(\"Метод {}\".format(method.__name__))\n",
    "    print(method(y_test,SVCBest.predict(X_test)))"
   ]
  },
  {
   "cell_type": "code",
   "execution_count": 16,
   "metadata": {
    "pycharm": {
     "is_executing": false
    }
   },
   "outputs": [
    {
     "name": "stdout",
     "output_type": "stream",
     "text": [
      "Дерево решений \n",
      "\n",
      "Метод accuracy_score\n",
      "0.8571428571428571\n",
      "Метод confusion_matrix\n",
      "[[4 0]\n",
      " [1 2]]\n",
      "Метод classification_report\n",
      "              precision    recall  f1-score   support\n",
      "\n",
      "           0       0.80      1.00      0.89         4\n",
      "           1       1.00      0.67      0.80         3\n",
      "\n",
      "    accuracy                           0.86         7\n",
      "   macro avg       0.90      0.83      0.84         7\n",
      "weighted avg       0.89      0.86      0.85         7\n",
      "\n"
     ]
    }
   ],
   "source": [
    "print(\"Дерево решений \\n\")\n",
    "for method in [accuracy_score,confusion_matrix, classification_report]:\n",
    "    print(\"Метод {}\".format(method.__name__))\n",
    "    print(method(y_test,DecTreeBest.predict(X_test)))"
   ]
  },
  {
   "cell_type": "code",
   "execution_count": 16,
   "metadata": {
    "pycharm": {
     "is_executing": false
    }
   },
   "outputs": [],
   "source": []
  }
 ],
 "metadata": {
  "kernelspec": {
   "display_name": "Python 3",
   "language": "python",
   "name": "python3"
  },
  "language_info": {
   "codemirror_mode": {
    "name": "ipython",
    "version": 3
   },
   "file_extension": ".py",
   "mimetype": "text/x-python",
   "name": "python",
   "nbconvert_exporter": "python",
   "pygments_lexer": "ipython3",
   "version": "3.7.4"
  },
  "pycharm": {
   "stem_cell": {
    "cell_type": "raw",
    "metadata": {
     "collapsed": false
    },
    "source": []
   }
  }
 },
 "nbformat": 4,
 "nbformat_minor": 2
}
